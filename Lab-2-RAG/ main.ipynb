{
 "cells": [
  {
   "cell_type": "markdown",
   "id": "35dec16a",
   "metadata": {},
   "source": [
    "# Laboratório 2: Construindo Sistemas com IA Generativa"
   ]
  },
  {
   "cell_type": "markdown",
   "id": "4b8210e8",
   "metadata": {},
   "source": [
    "## Parte 1 - RAG de Documentos"
   ]
  },
  {
   "cell_type": "markdown",
   "id": "e641130a",
   "metadata": {},
   "source": [
    "### 1. Interação LLM"
   ]
  },
  {
   "cell_type": "code",
   "execution_count": 1,
   "id": "471b6cb5",
   "metadata": {},
   "outputs": [
    {
     "data": {
      "text/plain": [
       "True"
      ]
     },
     "execution_count": 1,
     "metadata": {},
     "output_type": "execute_result"
    }
   ],
   "source": [
    "import os\n",
    "from langchain_openai import ChatOpenAI\n",
    "from IPython.display import Markdown\n",
    "from dotenv import load_dotenv\n",
    "\n",
    "# Carregando variáveis de ambiente\n",
    "load_dotenv()"
   ]
  },
  {
   "cell_type": "code",
   "execution_count": 39,
   "id": "d26f14fe",
   "metadata": {},
   "outputs": [
    {
     "data": {
      "text/markdown": [
       "As Forças Armadas de Defesa de Moçambique (FADM) enfrentaram diversas dificuldades nas operações de guerrilha no Teatro Operacional Norte, especialmente no contexto do combate ao terrorismo e à insurgência em Cabo Delgado. Algumas das principais dificuldades incluem:\n",
       "\n",
       "1. **Falta de Recursos**: As FADM frequentemente enfrentaram limitações em termos de equipamentos, armamentos e suprimentos, o que dificultou a eficácia das operações.\n",
       "\n",
       "2. **Treinamento e Capacitação**: A falta de treinamento adequado e especializado para lidar com táticas de guerrilha e combate em terrenos difíceis comprometeu a capacidade das forças de responder de forma eficaz.\n",
       "\n",
       "3. **Inteligência e Informação**: A dificuldade em obter informações precisas sobre os movimentos e a localização dos insurgentes prejudicou as operações, tornando-as menos eficazes.\n",
       "\n",
       "4. **Terreno Desfavorável**: O terreno montanhoso e a densa vegetação de Cabo Delgado apresentaram desafios significativos para as operações militares, dificultando a mobilidade e a logística.\n",
       "\n",
       "5. **População Civil**: A presença de civis na área de conflito complicou as operações, uma vez que as FADM precisavam evitar causar danos colaterais e ganhar a confiança da população local.\n",
       "\n",
       "6. **Desmotivação e Moral**: A desmotivação entre as tropas, devido a condições adversas e à falta de apoio, pode ter impactado a moral e a eficácia das operações.\n",
       "\n",
       "7. **Apoio Internacional**: A dependência de apoio externo, tanto em termos de treinamento quanto de recursos, pode ter limitado a autonomia das FADM nas operações.\n",
       "\n",
       "Essas dificuldades, entre outras, contribuíram para a complexidade do conflito em Cabo Delgado e para os desafios enfrentados pelas FADM nas suas operações de combate à insurgência."
      ],
      "text/plain": [
       "<IPython.core.display.Markdown object>"
      ]
     },
     "metadata": {},
     "output_type": "display_data"
    }
   ],
   "source": [
    "# Criando interface para interagir com o modelo\n",
    "model = ChatOpenAI(\n",
    "    model=\"gpt-4o-mini\",   # modelo leve e rápido\n",
    "    temperature=0        # controla a criatividade da resposta\n",
    ")\n",
    "\n",
    "# Fazendo uma pergunta simples ao modelo\n",
    "resposta = model.invoke(\n",
    "    \"Quais foram as principais dificuldades enfrentadas pelas FADM nas operações de guerrilha no Teatro Operacional Norte?\"\n",
    "    )\n",
    "display(Markdown(resposta.content))"
   ]
  },
  {
   "cell_type": "markdown",
   "id": "0ac16e83",
   "metadata": {},
   "source": [
    "### 2. Interação LLM pura x RAG"
   ]
  },
  {
   "cell_type": "markdown",
   "id": "d18a367a",
   "metadata": {},
   "source": [
    "### 3. Quebra do documento em chunks\n",
    "\n",
    "Vamos quebrar o documentos em partes menores *(chunks)* que possuem alguma sobreposição entre si. A ideia é selecionar alguns desses *chunks* de acordo com a pergunta do usuário para serem usados como base contextual para a LLM responder a pergunta"
   ]
  },
  {
   "cell_type": "code",
   "execution_count": 4,
   "id": "224d13b4",
   "metadata": {},
   "outputs": [
    {
     "name": "stdout",
     "output_type": "stream",
     "text": [
      "✅ Documento carregado com 84 páginas\n",
      "Academia Militar Marechal Samora Machel \n",
      " \n",
      " \n",
      " \n",
      " \n",
      " \n",
      " \n",
      " \n",
      " \n",
      "RELATO DO  \n",
      "I SIMPÓSIO SOBRE DOUTRINA MILITAR \n",
      " \n",
      " \n",
      " \n",
      " \n",
      " \n",
      " \n",
      " \n",
      " \n",
      " \n",
      "Nampula, Setembro de 2022\n"
     ]
    }
   ],
   "source": [
    "from langchain.document_loaders import PyPDFLoader\n",
    "\n",
    "pdf_path = \"Relato-do-I-Simposio-sobre-Doutrina-Militar.pdf\"\n",
    "\n",
    "loader = PyPDFLoader(pdf_path)\n",
    "docs = loader.load()\n",
    "\n",
    "print(f\"✅ Documento carregado com {len(docs)} páginas\")\n",
    "print(docs[1].page_content[:500])  # mostra os primeiros 500 caracteres da primeira página\n"
   ]
  },
  {
   "cell_type": "code",
   "execution_count": 5,
   "id": "0698d1b7",
   "metadata": {},
   "outputs": [
    {
     "name": "stdout",
     "output_type": "stream",
     "text": [
      "✅ Documento dividido em 206 chunks\n"
     ]
    }
   ],
   "source": [
    "from langchain.text_splitter import RecursiveCharacterTextSplitter\n",
    "\n",
    "text_splitter = RecursiveCharacterTextSplitter(\n",
    "    chunk_size=800,      # número de caracteres por chunk\n",
    "    chunk_overlap=150,   # sobreposição entre chunks\n",
    "    separators=[\"\\n\\n\", \"\\n\", \".\", \" \"]  # ordem de prioridade na divisão\n",
    ")\n",
    "\n",
    "# Aplicar o splitter ao documento\n",
    "chunks = text_splitter.split_documents(docs)\n",
    "\n",
    "print(f\"✅ Documento dividido em {len(chunks)} chunks\")\n"
   ]
  },
  {
   "cell_type": "code",
   "execution_count": 6,
   "id": "3a0351bc",
   "metadata": {},
   "outputs": [
    {
     "name": "stdout",
     "output_type": "stream",
     "text": [
      "\n",
      "--- Chunk 1 ---\n",
      "4. Doutrinas de outros países tendo em atenção os aspectos culturais do nosso país. \n",
      "Com efeito, a Doutrina M ilitar deve definir as linhas de comando (estratégico, operacional e \n",
      "táctico) e ref lectir co m ideias e entendimentos ao nível do s Ramos e ao nível combinado \n",
      "(operações militares que envolvem duas ou mais Nações), apresentados em manuais de \n",
      "campanha, cadernos, notas e materiais de instrução, para estabelecer uma forma de ser e estar \n",
      "das FADM. \n",
      "Nessa matriz doutrinária, as instituições de ensino militar devem estar na dianteira nas \n",
      "actividades de reflexão doutrinária em todos os níveis (estratégico, operacional e táctico), \n",
      "assim como considerar o pressuposto de que as FADM não constituem local de absorção de\n",
      "\n",
      "--- Chunk 2 ---\n",
      "assim como considerar o pressuposto de que as FADM não constituem local de absorção de \n",
      "desempregados da sociedade e não apostam na quantidade, mas sim na qualidade dos homens. \n",
      "No entanto , para dar continuidade ao processo de reflexão sobre a Doutrina Militar, ora \n",
      "realizado na Academia Militar, o Instituto Superior de Estud os de Defesa deverá levar a cabo \n",
      "o segundo Simpósio. \n",
      "Exmo. Comandante da Academia Militar, Major-General Mataruca,  \n",
      "Exmo. Brigadeiro-General Duarte,  \n",
      "Caros Generais e Oficiais das Forças de Defesa e Segurança,  \n",
      "Caros Oficiais da Cooperação Militar Portuguesa,  \n",
      "Minhas Senhoras e meus Senhores,  \n",
      " \n",
      "Declaro aberto o I Simpósio sobre a Doutrina Militar. \n",
      "Almirante Joaquim Mangrasse, Chefe do Estado-Maior General das FADM\n",
      "\n",
      "--- Chunk 3 ---\n",
      "12 \n",
      ". \n",
      " \n",
      " \n",
      " \n",
      " \n",
      " \n",
      " \n",
      " \n",
      " \n",
      " \n",
      " \n",
      "POSTER DO SIMPÓSIO \n",
      "Poster do simpósio\n",
      "\n",
      "--- Chunk 4 ---\n",
      "13 \n",
      ".\n",
      "\n",
      "--- Chunk 5 ---\n",
      "COMUNICAÇÕES* \n",
      " \n",
      " \n",
      " \n",
      " \n",
      " \n",
      " \n",
      " \n",
      " \n",
      " \n",
      " \n",
      "                                                           \n",
      "* O conteúdo das Comunicações apresentadas é da responsabilidade dos seus autores.\n",
      "\n",
      "--- Chunk 6 ---\n",
      "15 \n",
      " \n",
      "DOUTRINA MILITAR DAS OPERAÇÕES TERRESTRES DAS FORÇAS ARMADAS \n",
      "DE DEFESA DE MOÇAMBIQUE \n",
      "Tenente-General Bertolino Jeremias Capitine* \n",
      " \n",
      "1. Introdução \n",
      "Houve tempos em que as Forças Armadas orientavam a sua articulação e o seu preparo para \n",
      "combater, unicamente, ameaças identificadas por um possível Estado  agressor; contudo as \n",
      "mudanças experimentadas pelas sociedades, com reflexos na forma de fazer política e o \n",
      "surgimento de nova configuração geopolítica, conduzem a horizontes mais incertos e \n",
      "complexos para planear a Defesa da Pátria. \n",
      "Por um lado , as novas ameaças (que não ocorrem em ambientes definidos, nem apresentam \n",
      "um oponente definido, nem determinam um futuro certo) ganharam importância na\n",
      "\n",
      "--- Chunk 7 ---\n",
      "um oponente definido, nem determinam um futuro certo) ganharam importância na \n",
      "actualidade, exigindo que os Estados lidem constantemente com desafios e estejam aptos para \n",
      "o combate ao terrorismo, a protecção da sociedade contra as armas de destruição em massa e a \n",
      "participação em missões de manutenção da paz.  Por outro lado, os conflitos permanecem \n",
      "marcados pelo emprego da violência, apesar das mudanç as observadas na arte da guerra;  \n",
      "mesmo que oco rram assimetrias, ressalta -se que o combate convencional de alta intensidade \n",
      "não perdeu a sua importância, devendo permanecer como foco para a organização e o preparo \n",
      "da Força Terrestre. \n",
      "Isso tudo leva à necessidade de uma força com novas capacidades opera tivas, dotada de\n",
      "\n",
      "--- Chunk 8 ---\n",
      "da Força Terrestre. \n",
      "Isso tudo leva à necessidade de uma força com novas capacidades opera tivas, dotada de \n",
      "material com alta tecnologia agregada, sustentada por uma doutrina em constante evolução e \n",
      "integrada por recursos humanos altamente treinados e motivados. A s ua organização deve \n",
      "possuir estruturas que permitam alcançar resultados decisivos, com prontidão operativa e com \n",
      "capacidade de emprego do poder militar gradual e proporcional à ameaça. \n",
      "Assim, a presente comunicação visa discutir ideias e possíveis saídas para favorecer o \n",
      "crescimento das FADM , na área da Doutrina Militar, em particular da Doutrina Militar \n",
      "Terrestre, a qual deve ser permanentemente ac tualizada em função da natureza dos conflitos, \n",
      "resultado das mudanças da sociedade e da evolução tecnológica.\n",
      "\n",
      "--- Chunk 9 ---\n",
      "resultado das mudanças da sociedade e da evolução tecnológica.  \n",
      "                                                           \n",
      "* Vice-Chefe do Estado-Maior General das FADM.\n",
      "\n",
      "--- Chunk 10 ---\n",
      "Tenente-General B. Capitine \n",
      " \n",
      "16 \n",
      "Doutrina Militar das Operações Terrestres das FADM \n",
      "2. Breve historial da doutrina  \n",
      "No século XX, as doutrinas militares  eram aplicáveis apenas a uma determinada componente \n",
      "– terrestre, naval ou aérea – (Forma isolada). Entretanto, durante a II Guerra Mundial, surgiu a \n",
      "necessidade de se estabelecer procedimentos próprios para as operações conjuntas, os quais \n",
      "foram identificados pelas Forças Armadas dos Estados Unidos da América (EUA), nas suas \n",
      "várias intervenções militares conjuntas, a partir de graves deficiências demonstradas em áreas \n",
      "tão diversas como as de comunicações, interoperabilidade e organização, integração e \n",
      "coordenação*. \n",
      "No entanto, embora fosse desenvolvida na II Guerra Mundial, a doutrina militar conjunta foi\n"
     ]
    }
   ],
   "source": [
    "for i, chunk in enumerate(chunks[20:30]):\n",
    "    print(f\"\\n--- Chunk {i+1} ---\")\n",
    "    print(chunk.page_content)  # mostrar apenas os primeiros 300 caracteres"
   ]
  },
  {
   "cell_type": "markdown",
   "id": "3b6ab98f",
   "metadata": {},
   "source": [
    "### 3. Vetorização de um chunk\n",
    "Vamos usar um modelo de embedding para transformar o *chunk* em um vetor de 1536 dimensões que armazena um valor semântico daquele texto"
   ]
  },
  {
   "cell_type": "code",
   "execution_count": 7,
   "id": "a5da4a59",
   "metadata": {},
   "outputs": [
    {
     "name": "stdout",
     "output_type": "stream",
     "text": [
      "📄 Texto do chunk:\n",
      " 41 \n",
      "DOUTRINA MILITAR DAS OPERAÇÕES NAVAIS DAS FADM \n",
      "Capitão-de-Mar-e-Guerra Carlos Miguel Castanheira Cossa* \n",
      " \n",
      "1. Introdução \n",
      "A Marinha de Guerra de Moçambique (MGM), um dos ramos das Forças Armadas de Defesa \n",
      "de Moçambique (FADM), é uma das instituições com elevada responsabilidade no âmbito da \n",
      "d\n"
     ]
    }
   ],
   "source": [
    "from langchain_openai import OpenAIEmbeddings\n",
    "import numpy as np\n",
    "\n",
    "# Inicializa o modelo de embeddings da OpenAI\n",
    "embedding_model = OpenAIEmbeddings(model=\"text-embedding-3-small\")\n",
    "\n",
    "# Seleciona um dos chunks gerados anteriormente\n",
    "exemplo_chunk = chunks[100].page_content\n",
    "print(\"📄 Texto do chunk:\\n\", exemplo_chunk[:300])\n"
   ]
  },
  {
   "cell_type": "code",
   "execution_count": 8,
   "id": "814a4136",
   "metadata": {},
   "outputs": [
    {
     "name": "stdout",
     "output_type": "stream",
     "text": [
      "\n",
      "✅ Embedding gerado! O vetor tem 1536 dimensões.\n",
      "🔢 Primeiros 10 valores do vetor:\n",
      " [0.018671372905373573, 0.09511669725179672, 0.04760127142071724, 0.009668337181210518, -0.0038979174569249153, 0.031891562044620514, -0.011481821537017822, 0.010419484227895737, -0.02307095006108284, 0.009067419916391373]\n"
     ]
    }
   ],
   "source": [
    "# Gera o vetor de embedding para o chunk selecionado\n",
    "vetor = embedding_model.embed_query(exemplo_chunk)\n",
    "\n",
    "print(f\"\\n✅ Embedding gerado! O vetor tem {len(vetor)} dimensões.\")\n",
    "print(\"🔢 Primeiros 10 valores do vetor:\\n\", vetor[:10])\n"
   ]
  },
  {
   "cell_type": "markdown",
   "id": "10996efd",
   "metadata": {},
   "source": [
    "### 4. Banco vetorial (Chroma)\n",
    "- Vamos criar **um embedding para cada chunk** e armazena-lo em um banco vetorial (Chroma). \n",
    "\n",
    "- Cada chunk será armazenado no banco como um **vetor + texto do trecho + metadado**\n",
    "    - Obs: Esse metadado pode ser o nome do documento de origem, o nº da página do trecho, etc\n",
    "\n",
    "- A ideia do banco é que poderemos fazer **buscas semânticas** utilzando **cálculos vetoriais** para selecionar os trechos do documento que estão **mais relacionados** com uma determinada pergunta do usuário"
   ]
  },
  {
   "cell_type": "code",
   "execution_count": 9,
   "id": "86bec0f1",
   "metadata": {},
   "outputs": [],
   "source": [
    "from langchain_chroma import Chroma\n",
    "\n",
    "vectorstore = Chroma(\n",
    "    collection_name=\"doutrina-militar\",\n",
    "    embedding_function=embedding_model,\n",
    "    persist_directory=\"./chroma_db\" # Vamos persistir nossos dados em um banco sqlite na pasta chroma_db\n",
    ")"
   ]
  },
  {
   "cell_type": "code",
   "execution_count": 10,
   "id": "0f9269f0",
   "metadata": {},
   "outputs": [
    {
     "name": "stdout",
     "output_type": "stream",
     "text": [
      "✅ Todos os chunks foram vetorizados e armazenados no Chroma!\n"
     ]
    }
   ],
   "source": [
    "# Adiciona os documentos chunkados ao banco vetorial\n",
    "vectorstore.add_documents(chunks)\n",
    "\n",
    "print(\"✅ Todos os chunks foram vetorizados e armazenados no Chroma!\")"
   ]
  },
  {
   "cell_type": "code",
   "execution_count": 11,
   "id": "6212f225",
   "metadata": {},
   "outputs": [
    {
     "name": "stdout",
     "output_type": "stream",
     "text": [
      "📊 O banco vetorial contém 206 embeddings.\n"
     ]
    }
   ],
   "source": [
    "collection = vectorstore._client.get_collection(\"doutrina-militar\")\n",
    "\n",
    "print(f\"📊 O banco vetorial contém {collection.count()} embeddings.\")"
   ]
  },
  {
   "cell_type": "markdown",
   "id": "bfb69b77",
   "metadata": {},
   "source": [
    "### 5. Busca semântica no Chroma\n",
    "- Vamos fazer uma busca semântica dentro do banco vetorial. \n",
    "\n",
    "- Para isso, a pergunta do usuário *(query)* será vetorizada.\n",
    "\n",
    "- Será feita uma busca de proximidade cossenoidal do vetor da pergunta com todos os outro vetores no banco."
   ]
  },
  {
   "cell_type": "code",
   "execution_count": 13,
   "id": "b89a2d6e",
   "metadata": {},
   "outputs": [
    {
     "name": "stdout",
     "output_type": "stream",
     "text": [
      "🔎 Trechos mais relevantes encontrados:\n",
      "\n",
      "--- Resultado 1 ---\n",
      "os não limitados civis armados. É uma técnica de combate  baseada numa luta efectuada por \n",
      "pequenos grupos de combatente s, composto geralmente por pessoas não pertencentes ao \n",
      "Exército Regular nacional, baseada no desrespeito pelas convenções internacionais. \n",
      "A guerrilha é, igualmente, a modalidade\n",
      "\n",
      "--- Resultado 2 ---\n",
      "Coronel G. Muiambo \n",
      "38 \n",
      "Doutrina Militar versus Operações de Guerrilha \n",
      "As características de operações de guerrilha compreendem: i rregularidade do combate,  feito \n",
      "pelos guerrilheiros;  capacidade de mobilidade;  compromisso político ( interno e externo ); \n",
      "carácter (ligação íntima com as populaçõ\n",
      "\n",
      "--- Resultado 3 ---\n",
      "Coronel G. Muiambo \n",
      "37 \n",
      "Doutrina Militar versus Operações de Guerrilha \n",
      "combate (Terrestres, Aéreos e Navais)  e armamento modernos, com meios de comunicação \n",
      "(fixos e móveis) eficientes e uma Logística (alimentação/ração de combate,  equipamentos \n",
      "diversos, combustíveis e lubrificantes) à al tura d\n",
      "\n",
      "--- Resultado 4 ---\n",
      "Coronel G. Muiambo \n",
      "40 \n",
      "Doutrina Militar versus Operações de Guerrilha \n",
      "5. Bibliografia \n",
      "Chevalier, F.  (1960). Caudillos et caciques en Amérique. Contribution à l'étude des liens  \n",
      "personnels. Bordeaux. \n",
      "Debray, R. (1966). ¿Revolución en la revolución? LaHabana: Casa de las Américas. \n",
      "Gott, R. (197\n",
      "\n",
      "--- Resultado 5 ---\n",
      "36 \n",
      " \n",
      "DOUTRINA MILITAR VERSUS OPERAÇÕES DE GUERRILHA \n",
      "Coronel Gonçalves Fernando Muiambo* \n",
      " \n",
      "1. Introdução \n",
      "O objectivo desta comunicação é apresentar sugestões, como contributo, para o \n",
      "enquadramento da actual Doutrina Militar das Forças Armadas, tendo como base os \n",
      "constantes conflitos com acções \n"
     ]
    }
   ],
   "source": [
    "query = \"O que o documento fala sobre guerrilha?\"\n",
    "resultados = vectorstore.similarity_search(query, k=5)\n",
    "\n",
    "print(\"🔎 Trechos mais relevantes encontrados:\")\n",
    "for i, r in enumerate(resultados):\n",
    "    print(f\"\\n--- Resultado {i+1} ---\")\n",
    "    print(r.page_content[:300])"
   ]
  },
  {
   "cell_type": "markdown",
   "id": "8c303e72",
   "metadata": {},
   "source": [
    "### 6. Finalização do RAG"
   ]
  },
  {
   "cell_type": "code",
   "execution_count": 19,
   "id": "704a2121",
   "metadata": {},
   "outputs": [],
   "source": [
    "def rag_module(pergunta: str, num_chunks: int = 5):\n",
    "    chunks = vectorstore.similarity_search(query, k=num_chunks)\n",
    "    contexto = \"\\n\\n\".join([r.page_content for r in chunks])\n",
    "\n",
    "    prompt = f\"\"\"\n",
    "        1- Você é um assistente especialista em responder perguntas com base no contexto em que lhe fornecido entre ===\n",
    "        2- Use APENAS as informações abaixo para responder à pergunta.\n",
    "\n",
    "        ===\n",
    "        Contexto:\n",
    "        {contexto}\n",
    "        ===\n",
    "\n",
    "        Pergunta: {pergunta}\n",
    "\n",
    "        Responda de forma clara, concisa e cite os trechos do contexto quando possível.\n",
    "    \"\"\"\n",
    "\n",
    "    resposta_final = model.invoke(prompt)\n",
    "\n",
    "    return resposta_final\n"
   ]
  },
  {
   "cell_type": "code",
   "execution_count": 40,
   "id": "93cc1526",
   "metadata": {},
   "outputs": [
    {
     "name": "stdout",
     "output_type": "stream",
     "text": [
      "\n",
      "💡 Resposta final do RAG:\n",
      "\n"
     ]
    },
    {
     "data": {
      "text/markdown": [
       "As principais dificuldades enfrentadas pelas Forças Armadas de Moçambique (FADM) nas operações de guerrilha no Teatro Operacional Norte (TON) incluem:\n",
       "\n",
       "1. **Organização e Comando**: As FADM têm enfrentado desafios na estrutura organizacional e na liderança durante as operações de guerrilha.\n",
       "\n",
       "2. **Meios de Combate**: Há deficiências nos meios de combate, que incluem recursos terrestres, aéreos e navais.\n",
       "\n",
       "3. **Logística**: As dificuldades logísticas têm sido um obstáculo significativo, afetando o transporte e a disponibilidade de equipamentos militares.\n",
       "\n",
       "4. **Equipamentos Militares**: A falta de equipamentos adequados, como fardamento, coletes de proteção, capacetes, cartucheiras e botas, tem comprometido a eficácia das operações.\n",
       "\n",
       "Essas dificuldades são mencionadas no trecho: \"Desde o início da guerra de terrorismo, em Cabo Delgado, as FADM têm vindo a debater-se com várias dificuldades, desde a organização, comando, meios de combate (terrestres, aéreos e navais), deficiências logísticas, transporte, equipamentos militares (fardamento, coletes de proteção, capacetes, cartucheiras, botas), entre outros.\""
      ],
      "text/plain": [
       "<IPython.core.display.Markdown object>"
      ]
     },
     "metadata": {},
     "output_type": "display_data"
    }
   ],
   "source": [
    "pergunta = \"Quais foram as principais dificuldades enfrentadas pelas FADM nas operações de guerrilha no Teatro Operacional Norte?\"\n",
    "\n",
    "resposta = rag_module(pergunta)\n",
    "\n",
    "\n",
    "print(\"\\n💡 Resposta final do RAG:\\n\")\n",
    "\n",
    "# Printar resposta\n",
    "display(Markdown(resposta.content))"
   ]
  },
  {
   "cell_type": "markdown",
   "id": "d58c0f6e",
   "metadata": {},
   "source": [
    "### 7. Propostas de melhoria\n",
    "\n",
    "- **Refinar prompt:** Pedir para o LLM refinar a pergunta antes de fazer a busca vetorial, com o objetivo de obter chunks mais adequados\n",
    "\n",
    "- **Estratégia de criação de chunks:** Usar outras estratégias para quebra do documento em chunks\n",
    "    - Usar a estrutura do documento como referência (Ex: Em uma legislação quebrar um chunk por artigo)\n",
    "    - Fazer quebra em chunks usando LLM para criar chunks que englobem totalmente uma ideia\n",
    "\n",
    "- **Usar metadados dos chunks:** Os chunks possuem metadados associados. Geralmente inclui o nome da sua fonte de origem, autor, etc. Mas esse campo pode ser editado a critério do desenvolvedor.\n",
    "\n",
    "- **Ferramentas de extração de texto:** O langchain possui funções que permitem você extrair o texto de outras tipos de fonte. Por exemplo:\n",
    "    - **PyPDFLoader**: Extrai o texto de PDFs\n",
    "    - **YoutubeAudioLoader**: Extrai a transcrição de vídeos do YouTube automaticamente\n",
    "    - **WebBaseLoader**: Faz scraping de páginas, inclusive via sitemap\n",
    "    - **WikipediaLoader**: Busca e extrai artigos diretamente da Wikipédia.\n"
   ]
  },
  {
   "cell_type": "markdown",
   "id": "24804bf1",
   "metadata": {},
   "source": [
    "#### ATENÇÃO Adicionar um diagrama de como RAG funciona"
   ]
  },
  {
   "cell_type": "markdown",
   "id": "f5564b0e",
   "metadata": {},
   "source": [
    "## Parte 2 - Agentes"
   ]
  },
  {
   "cell_type": "markdown",
   "id": "c3af8ed1",
   "metadata": {},
   "source": [
    "### 1. Execução de funções"
   ]
  },
  {
   "cell_type": "code",
   "execution_count": 62,
   "id": "b71180ef",
   "metadata": {},
   "outputs": [
    {
     "data": {
      "text/plain": [
       "'A palavra \"CORREDOR\" tem 2 letras R.'"
      ]
     },
     "execution_count": 62,
     "metadata": {},
     "output_type": "execute_result"
    }
   ],
   "source": [
    "resposta = model.invoke(\"Quantas letras R tem a palavra CORREDOR?\")\n",
    "resposta.content\n"
   ]
  },
  {
   "cell_type": "code",
   "execution_count": null,
   "id": "d255f53c",
   "metadata": {},
   "outputs": [],
   "source": [
    "from langchain_openai import ChatOpenAI\n",
    "from langchain.agents import Tool, initialize_agent\n",
    "from langchain.agents import AgentType\n",
    "\n",
    "# 🧮 Função que conta quantas vezes uma letra aparece em uma palavra\n",
    "def contar_letra(entrada: str) -> str:\n",
    "    \"\"\"\n",
    "    Espera uma string no formato 'palavra letra'\n",
    "    Exemplo: 'banana a'\n",
    "    \"\"\"\n",
    "    try:\n",
    "        palavra, letra = entrada.split()\n",
    "        contagem = palavra.lower().count(letra.lower())\n",
    "        return f\"A letra '{letra}' aparece {contagem} vez(es) na palavra '{palavra}'.\"\n",
    "    except Exception as e:\n",
    "        return f\"Erro: forneça os dados no formato 'palavra letra'. Exemplo: 'banana a'\"\n",
    "\n",
    "# 🔧 Cria a tool com descrição para o agente entender\n",
    "tools_exemplo = [\n",
    "    Tool(\n",
    "        name=\"Contador de letras\",\n",
    "        func=contar_letra,\n",
    "        description=\"Conta quantas vezes uma letra específica aparece em uma palavra. Entrada esperada: 'palavra letra'.\"\n",
    "    )\n",
    "]\n",
    "\n",
    "# 🧠 Cria o agente\n",
    "agente_exemplo = initialize_agent(\n",
    "    tools_exemplo,\n",
    "    model,\n",
    "    agent_type=AgentType.ZERO_SHOT_REACT_DESCRIPTION,\n",
    "    verbose=True\n",
    ")"
   ]
  },
  {
   "cell_type": "code",
   "execution_count": 64,
   "id": "6e8ec373",
   "metadata": {},
   "outputs": [
    {
     "name": "stdout",
     "output_type": "stream",
     "text": [
      "\n",
      "\n",
      "\u001b[1m> Entering new AgentExecutor chain...\u001b[0m\n",
      "\u001b[32;1m\u001b[1;3mI need to count how many times the letter 'R' appears in the word \"CORREDOR\". \n",
      "Action: Contador de letras\n",
      "Action Input: \"CORREDOR R\"\u001b[0m\n",
      "Observation: \u001b[36;1m\u001b[1;3mA letra 'R' aparece 3 vez(es) na palavra 'CORREDOR'.\u001b[0m\n",
      "Thought:\u001b[32;1m\u001b[1;3mI now know the final answer\n",
      "Final Answer: A letra 'R' aparece 3 vezes na palavra 'CORREDOR'.\u001b[0m\n",
      "\n",
      "\u001b[1m> Finished chain.\u001b[0m\n",
      "\n",
      "🤖 Resposta: A letra 'R' aparece 3 vezes na palavra 'CORREDOR'.\n"
     ]
    }
   ],
   "source": [
    "resposta = agente_exemplo.invoke({\"input\": \"Quantas letras R tem a palavra CORREDOR?\"})\n",
    "print(\"\\n🤖 Resposta:\", resposta[\"output\"])\n"
   ]
  },
  {
   "cell_type": "markdown",
   "id": "40ad4e9a",
   "metadata": {},
   "source": [
    "### 2. Prompt especialista"
   ]
  },
  {
   "cell_type": "markdown",
   "id": "183983af",
   "metadata": {},
   "source": [
    "### 3. Busca no banco de dados"
   ]
  },
  {
   "cell_type": "code",
   "execution_count": 65,
   "id": "b60768ad",
   "metadata": {},
   "outputs": [
    {
     "name": "stdout",
     "output_type": "stream",
     "text": [
      "\n",
      "\n",
      "\u001b[1m> Entering new AgentExecutor chain...\u001b[0m\n",
      "\u001b[32;1m\u001b[1;3mI need to find information about the user named João in the internal database.  \n",
      "Action: Consulta ao banco de dados de usuários  \n",
      "Action Input: \"João\"  \u001b[0m\n",
      "Observation: \u001b[36;1m\u001b[1;3mJoão é Engenheiro de IA e trabalha no setor de Pesquisa.\u001b[0m\n",
      "Thought:\u001b[32;1m\u001b[1;3mI now know the final answer  \n",
      "Final Answer: João é Engenheiro de IA e trabalha no setor de Pesquisa.\u001b[0m\n",
      "\n",
      "\u001b[1m> Finished chain.\u001b[0m\n",
      "\n",
      "📊 Resposta: João é Engenheiro de IA e trabalha no setor de Pesquisa.\n"
     ]
    }
   ],
   "source": [
    "# Banco simulado\n",
    "usuarios = {\n",
    "    \"João\": {\"cargo\": \"Engenheiro de IA\", \"setor\": \"Pesquisa\"},\n",
    "    \"Maria\": {\"cargo\": \"Analista de Dados\", \"setor\": \"Inteligência\"},\n",
    "}\n",
    "\n",
    "# Função de consulta\n",
    "def consultar_usuario(nome: str) -> str:\n",
    "    dados = usuarios.get(nome)\n",
    "    if not dados:\n",
    "        return \"Usuário não encontrado.\"\n",
    "    return f\"{nome} é {dados['cargo']} e trabalha no setor de {dados['setor']}.\"\n",
    "\n",
    "# Tool de busca\n",
    "tools_bd = [\n",
    "    Tool(\n",
    "        name=\"Consulta ao banco de dados de usuários\",\n",
    "        func=consultar_usuario,\n",
    "        description=\"Fornece informações sobre um usuário registrado no banco interno.\"\n",
    "    )\n",
    "]\n",
    "\n",
    "# Recria o agente\n",
    "agente_bd = initialize_agent(\n",
    "    tools_bd,\n",
    "    model,\n",
    "    agent_type=AgentType.ZERO_SHOT_REACT_DESCRIPTION,\n",
    "    verbose=True\n",
    ")\n",
    "\n",
    "# Teste\n",
    "resposta = agente_bd.invoke({\"input\": \"Quem é João?\"})\n",
    "print(\"\\n📊 Resposta:\", resposta[\"output\"])\n"
   ]
  },
  {
   "cell_type": "markdown",
   "id": "67895d89",
   "metadata": {},
   "source": [
    "### 4. Agente metereologico"
   ]
  },
  {
   "cell_type": "code",
   "execution_count": 93,
   "id": "380a5b47",
   "metadata": {},
   "outputs": [],
   "source": [
    "import requests\n",
    "\n",
    "# ============================\n",
    "# 🔹 Tool 1 — Busca coordenadas da cidade\n",
    "# ============================\n",
    "# def buscar_coordenadas(cidade: str) -> str:\n",
    "#     \"\"\"Retorna as coordenadas (latitude, longitude) da cidade informada.\"\"\"\n",
    "#     cidades = {\n",
    "#         \"Brasília\": (-15.78, -47.93),\n",
    "#         \"Rio de Janeiro\": (-22.90, -43.17),\n",
    "#         \"São Paulo\": (-23.55, -46.63),\n",
    "#         \"Maputo\": (-25.97, 32.58),\n",
    "#         \"Nampula\": (-15.12, 39.27),\n",
    "#         \"Beira\": (-19.84, 34.84)\n",
    "#     }\n",
    "#     if cidade not in cidades:\n",
    "#         return \"Cidade não encontrada. Tente Brasília, Rio de Janeiro, São Paulo, Maputo, Nampula ou Beira.\"\n",
    "    \n",
    "#     lat, lon = cidades[cidade]\n",
    "#     return f\"{cidade}: latitude={lat}, longitude={lon}\"\n",
    "\n",
    "def buscar_coordenadas(cidade: str) -> str:\n",
    "    \"\"\"Busca latitude e longitude da cidade usando a API Nominatim (OpenStreetMap).\"\"\"\n",
    "    url = f\"https://nominatim.openstreetmap.org/search?q={cidade}&format=json&limit=1\"\n",
    "    headers = {\"User-Agent\": \"LangChain-Agent-Demo\"}\n",
    "    \n",
    "    r = requests.get(url, headers=headers)\n",
    "    if not r.ok or not r.json():\n",
    "        return \"Não consegui encontrar coordenadas para essa cidade.\"\n",
    "    \n",
    "    dados = r.json()[0]\n",
    "    lat, lon = dados[\"lat\"], dados[\"lon\"]\n",
    "    return f\"{cidade}: latitude={lat}, longitude={lon}\"\n",
    "\n",
    "# ============================\n",
    "# 🔹 Tool 2 — Consulta clima via API Open-Meteo\n",
    "# ============================\n",
    "def clima_por_coordenadas(entrada: str) -> str:\n",
    "    \"\"\"Recebe uma string no formato 'latitude=X, longitude=Y' e retorna o clima atual.\"\"\"\n",
    "    try:\n",
    "        partes = entrada.replace(\",\", \"\").split()\n",
    "        lat = float(partes[0])\n",
    "        lon = float(partes[1])\n",
    "    except Exception as err:\n",
    "        return f\"Formato inválido. {err}\"\n",
    "\n",
    "    url = f\"https://api.open-meteo.com/v1/forecast?latitude={lat}&longitude={lon}&current_weather=true\"\n",
    "    r = requests.get(url)\n",
    "    dados = r.json().get(\"current_weather\", {})\n",
    "    if not dados:\n",
    "        return \"Não foi possível obter dados climáticos.\"\n",
    "    \n",
    "    temperatura = dados[\"temperature\"]\n",
    "    vento = dados[\"windspeed\"]\n",
    "    return f\"Temperatura: {temperatura}°C | Vento: {vento} km/h\"\n",
    "\n",
    "# ============================\n",
    "# 🧰 Define as tools\n",
    "# ============================\n",
    "tools_web = [\n",
    "    Tool(\n",
    "        name=\"Buscar coordenadas da cidade\",\n",
    "        func=buscar_coordenadas,\n",
    "        description=\"Retorna latitude e longitude de uma cidade.\"\n",
    "    ),\n",
    "    Tool(\n",
    "        name=\"Consultar clima por coordenadas\",\n",
    "        func=clima_por_coordenadas,\n",
    "        description=\"Dado latitude e longitude, retorna a temperatura e velocidade do vento.\"\n",
    "    )\n",
    "]\n",
    "\n",
    "\n",
    "# Recria o agente\n",
    "agente = initialize_agent(\n",
    "    tools_web,\n",
    "    model,\n",
    "    agent_type=AgentType.ZERO_SHOT_REACT_DESCRIPTION,\n",
    "    verbose=True\n",
    ")\n"
   ]
  },
  {
   "cell_type": "code",
   "execution_count": 94,
   "id": "6b87dcfb",
   "metadata": {},
   "outputs": [
    {
     "name": "stdout",
     "output_type": "stream",
     "text": [
      "\n",
      "\n",
      "\u001b[1m> Entering new AgentExecutor chain...\u001b[0m\n",
      "\u001b[32;1m\u001b[1;3mPara responder à pergunta sobre o clima em Seoul, primeiro preciso obter as coordenadas da cidade (latitude e longitude). \n",
      "\n",
      "Action: Buscar coordenadas da cidade  \n",
      "Action Input: \"Seoul\"  \u001b[0m\n",
      "Observation: \u001b[36;1m\u001b[1;3mSeoul: latitude=37.5666791, longitude=126.9782914\u001b[0m\n",
      "Thought:\u001b[32;1m\u001b[1;3mAgora que tenho as coordenadas de Seoul, posso consultar o clima usando essas informações.\n",
      "\n",
      "Action: Consultar clima por coordenadas  \n",
      "Action Input: \"37.5666791, 126.9782914\"  \u001b[0m\n",
      "Observation: \u001b[33;1m\u001b[1;3mTemperatura: 15.0°C | Vento: 5.9 km/h\u001b[0m\n",
      "Thought:\u001b[32;1m\u001b[1;3mAgora que tenho as informações sobre a temperatura e a velocidade do vento em Seoul, posso formular a resposta final.\n",
      "\n",
      "Final Answer: O clima em Seoul é de 15.0°C com uma velocidade do vento de 5.9 km/h.\u001b[0m\n",
      "\n",
      "\u001b[1m> Finished chain.\u001b[0m\n",
      "\n",
      "🌤️ Resultado: O clima em Seoul é de 15.0°C com uma velocidade do vento de 5.9 km/h.\n"
     ]
    }
   ],
   "source": [
    "resposta = agente.invoke({\"input\": \"Qual é o clima em Seoul?\"})\n",
    "print(\"\\n🌤️ Resultado:\", resposta[\"output\"])"
   ]
  }
 ],
 "metadata": {
  "kernelspec": {
   "display_name": "venv",
   "language": "python",
   "name": "python3"
  },
  "language_info": {
   "codemirror_mode": {
    "name": "ipython",
    "version": 3
   },
   "file_extension": ".py",
   "mimetype": "text/x-python",
   "name": "python",
   "nbconvert_exporter": "python",
   "pygments_lexer": "ipython3",
   "version": "3.11.9"
  }
 },
 "nbformat": 4,
 "nbformat_minor": 5
}
