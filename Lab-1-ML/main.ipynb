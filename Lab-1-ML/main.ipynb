{
 "cells": [
  {
   "cell_type": "markdown",
   "id": "d0be4af1",
   "metadata": {},
   "source": [
    "# Laboratório 1 - Machine Learning"
   ]
  },
  {
   "cell_type": "code",
   "execution_count": null,
   "id": "43276057",
   "metadata": {},
   "outputs": [],
   "source": [
    "import pandas as pd\n",
    "import numpy as np\n",
    "\n",
    "pd.set_option('display.max_rows', None, 'display.max_columns', None)"
   ]
  },
  {
   "cell_type": "markdown",
   "id": "e07adbc3",
   "metadata": {},
   "source": [
    "## Parte 1 - Pré-processamento"
   ]
  },
  {
   "cell_type": "markdown",
   "id": "ac2980cb",
   "metadata": {},
   "source": [
    "### 1. Carregar dataset"
   ]
  },
  {
   "cell_type": "code",
   "execution_count": null,
   "id": "3a51ba7b",
   "metadata": {},
   "outputs": [],
   "source": [
    "dataset = pd.read_csv('dataset/02-15-2018.csv')"
   ]
  },
  {
   "cell_type": "code",
   "execution_count": null,
   "id": "7b8c56e7",
   "metadata": {},
   "outputs": [],
   "source": [
    "dataset[:10]"
   ]
  },
  {
   "cell_type": "code",
   "execution_count": null,
   "id": "2df73a11",
   "metadata": {},
   "outputs": [],
   "source": [
    "colunas_iniciais = dataset.columns\n",
    "print(f\"{len(colunas_iniciais)} colunas\")"
   ]
  },
  {
   "cell_type": "code",
   "execution_count": null,
   "id": "69a15319",
   "metadata": {},
   "outputs": [],
   "source": [
    "colunas_iniciais"
   ]
  },
  {
   "cell_type": "code",
   "execution_count": null,
   "id": "e6d90bfc",
   "metadata": {},
   "outputs": [],
   "source": [
    "dataset[\"Label\"].value_counts()"
   ]
  },
  {
   "cell_type": "markdown",
   "id": "14110582",
   "metadata": {},
   "source": [
    "### 2. Redimensionamento da coluna Target"
   ]
  },
  {
   "cell_type": "code",
   "execution_count": null,
   "id": "af7ebb98",
   "metadata": {},
   "outputs": [],
   "source": [
    "target_classes = dataset[\"Label\"].value_counts().to_dict()\n",
    "classes = target_classes.keys()\n",
    "\n",
    "for target in target_classes:\n",
    "        value = 0 if target == \"Benign\"else 1\n",
    "        dataset.replace(to_replace=target, value=value, inplace=True)"
   ]
  },
  {
   "cell_type": "code",
   "execution_count": null,
   "id": "04595698",
   "metadata": {},
   "outputs": [],
   "source": [
    "dataset[\"Label\"].value_counts()"
   ]
  },
  {
   "cell_type": "markdown",
   "id": "a6e763f2",
   "metadata": {},
   "source": [
    "### 3. Tratamento de dados ruidosos"
   ]
  },
  {
   "cell_type": "code",
   "execution_count": null,
   "id": "8785e514",
   "metadata": {},
   "outputs": [],
   "source": [
    "# Deleta a coluna Timestamp\n",
    "dataset.drop(columns=['Timestamp'], inplace=True)\n",
    "columns = dataset.columns"
   ]
  },
  {
   "cell_type": "code",
   "execution_count": null,
   "id": "6d66f879",
   "metadata": {},
   "outputs": [],
   "source": [
    "# Substitui valores infinitos por NaN (not a number)\n",
    "dataset.replace([np.inf, -np.inf], np.nan, inplace=True)\n",
    "\n",
    "# Deleta todas as linhas que possuem algum valor NaN\n",
    "dataset.dropna(inplace=True)"
   ]
  },
  {
   "cell_type": "markdown",
   "id": "da7db76e",
   "metadata": {},
   "source": [
    "### 4. Conversão de tipos incorretos\n",
    "Verificar ser há alguma coluna com o tipo incorreto, como uma coluna numérica com o tipo object/string"
   ]
  },
  {
   "cell_type": "code",
   "execution_count": null,
   "id": "e9d2e75a",
   "metadata": {},
   "outputs": [],
   "source": [
    "dataset.dtypes"
   ]
  },
  {
   "cell_type": "markdown",
   "id": "d1155cf9",
   "metadata": {},
   "source": [
    "### 5. Particionamento estratificado dos dados\n"
   ]
  },
  {
   "cell_type": "code",
   "execution_count": null,
   "id": "48f42fa0",
   "metadata": {},
   "outputs": [],
   "source": [
    "from sklearn.model_selection import train_test_split\n",
    "\n",
    "dataset_train, dataset_test = train_test_split(\n",
    "        dataset,\n",
    "        train_size=0.2,\n",
    "        test_size=0.05, \n",
    "        stratify=dataset['Label'], # Manter a proporção de cada tipo nos dois datasets\n",
    "        random_state=42 # Escolha aleatória que pode ser reproduzida posteriormente\n",
    "    )"
   ]
  },
  {
   "cell_type": "code",
   "execution_count": null,
   "id": "f1b65c5c",
   "metadata": {},
   "outputs": [],
   "source": [
    "print(f\"Dataset de treino: {len(dataset_train)} linhas\")\n",
    "print(f\"Dataset de teste: {len(dataset_test)} linhas\")"
   ]
  },
  {
   "cell_type": "markdown",
   "id": "36025abc",
   "metadata": {},
   "source": [
    "### 6. Demais etapas\n",
    "Existem **outras etapas de pré-processamento** que devem ser aplicadas ao dataset, no entanto, **por motivos de tempo** iremos utilizar algumas funções de pré-processamento embutidas no próprio autoML **Pycaret**\n",
    "\n",
    "Nesse sentido, as seguintes etapas serão aplicadas pelo próprio **Pycaret**:\n",
    "- Normalização\n",
    "- Remoção de outlieers\n",
    "- Seleção de colunas"
   ]
  },
  {
   "cell_type": "markdown",
   "id": "739ec2ba",
   "metadata": {},
   "source": [
    "## Parte 2 - Treinamento"
   ]
  },
  {
   "cell_type": "code",
   "execution_count": null,
   "id": "1726bbc7",
   "metadata": {},
   "outputs": [],
   "source": [
    "from pycaret.classification import setup, compare_models, pull, save_model, plot_model, predict_model\n",
    "import pandas as pd\n",
    "\n",
    "\n",
    "# Configuração do ambiente do PyCaret\n",
    "clf = setup(\n",
    "    data=dataset_train,\n",
    "    test_data=dataset_test,\n",
    "    target='Label',\n",
    "    \n",
    "    # --- Pré-processamento desejado ---\n",
    "    normalize=True,              # ativa normalização\n",
    "    normalize_method='minmax',   # método de normalização min-max\n",
    "    \n",
    "    remove_outliers=False,        # Desativa remove_outliers por causa do grande consumo de RAM\n",
    "    # remove_outliers=True,        # remove outliers\n",
    "    # outliers_method='iforest',   # usa Isolation Forest\n",
    "    \n",
    "    pca=False,                    # Desativa PCA por causa do grande consumo de RAM\n",
    "    # pca=True,                    # ativa PCA\n",
    "    # pca_method='linear',         # PCA linear\n",
    "    # pca_components=0.95,         # mantém 95% da variância (ajuste se quiser)\n",
    "    \n",
    "    # --- Desativar transformações automáticas ---\n",
    "    imputation_type=None,            # não faz imputação\n",
    "    categorical_features=None,       # não faz encoding\n",
    "    polynomial_features=False,\n",
    "    low_variance_threshold=None,\n",
    "    remove_multicollinearity=False,\n",
    "    feature_selection=False,\n",
    "    transformation=False,\n",
    "\n",
    "    # --- Outras configurações ---\n",
    "    session_id=123,              # reprodutibilidade\n",
    "    use_gpu=False,                # acelera se houver GPU disponível\n",
    "    html=False                   # evita renderização interativa\n",
    ")\n"
   ]
  },
  {
   "cell_type": "code",
   "execution_count": null,
   "id": "ee1dc207",
   "metadata": {},
   "outputs": [],
   "source": [
    "['dt', ]"
   ]
  },
  {
   "cell_type": "code",
   "execution_count": null,
   "id": "2baa6741",
   "metadata": {},
   "outputs": [],
   "source": [
    "# Treina e compara modelos automaticamente\n",
    "best_model = compare_models(include=['knn', 'dt','rf', 'lr', 'mlp'])"
   ]
  },
  {
   "cell_type": "code",
   "execution_count": null,
   "id": "abd38b5d",
   "metadata": {},
   "outputs": [],
   "source": [
    "# Visualiza o ranking de modelos\n",
    "results = pull()\n",
    "results.to_csv('resultados_modelos.csv', index=False)\n",
    "print(results)"
   ]
  },
  {
   "cell_type": "code",
   "execution_count": null,
   "id": "73ae6c98",
   "metadata": {},
   "outputs": [],
   "source": [
    "results.to_pickle('output/resultados_modelos.pkl')\n"
   ]
  },
  {
   "cell_type": "code",
   "execution_count": null,
   "id": "9e40c5d3",
   "metadata": {},
   "outputs": [],
   "source": [
    "save_model(best_model, 'output/melhor_modelo')\n"
   ]
  },
  {
   "cell_type": "markdown",
   "id": "55d5e721",
   "metadata": {},
   "source": [
    "## Parte 3 - Avaliação"
   ]
  },
  {
   "cell_type": "code",
   "execution_count": null,
   "id": "905d7e87",
   "metadata": {},
   "outputs": [],
   "source": [
    "plot_model(best_model, plot='confusion_matrix')\n"
   ]
  },
  {
   "cell_type": "markdown",
   "id": "01c2863c",
   "metadata": {},
   "source": [
    "## Parte 4 - Classificação"
   ]
  },
  {
   "cell_type": "code",
   "execution_count": null,
   "id": "75c5cd43",
   "metadata": {},
   "outputs": [],
   "source": [
    "# 🔹 Usa o melhor modelo encontrado para prever todo o dataset\n",
    "predictions = predict_model(best_model, data=dataset)"
   ]
  },
  {
   "cell_type": "code",
   "execution_count": null,
   "id": "cec9f5f3",
   "metadata": {},
   "outputs": [],
   "source": [
    "# from sklearn.metrics import confusion_matrix, ConfusionMatrixDisplay\n",
    "\n",
    "# # Gera a matriz\n",
    "# cm = confusion_matrix(predictions['Label'], predictions['Label_predicted'])\n",
    "\n",
    "# # Exibe a matriz com rótulos\n",
    "# disp = ConfusionMatrixDisplay(confusion_matrix=cm)\n",
    "# disp.plot(cmap='Blues')\n"
   ]
  }
 ],
 "metadata": {
  "kernelspec": {
   "display_name": "venv-lab-1",
   "language": "python",
   "name": "python3"
  },
  "language_info": {
   "codemirror_mode": {
    "name": "ipython",
    "version": 3
   },
   "file_extension": ".py",
   "mimetype": "text/x-python",
   "name": "python",
   "nbconvert_exporter": "python",
   "pygments_lexer": "ipython3",
   "version": "3.10.19"
  }
 },
 "nbformat": 4,
 "nbformat_minor": 5
}
